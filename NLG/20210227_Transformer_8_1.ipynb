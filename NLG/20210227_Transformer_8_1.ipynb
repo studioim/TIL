{
 "cells": [
  {
   "cell_type": "markdown",
   "metadata": {},
   "source": [
    "# [08. Chapter8. Transformer]"
   ]
  },
  {
   "cell_type": "markdown",
   "metadata": {},
   "source": [
    "## 01. Ch 08. Transformer - 01. Transformer 소개"
   ]
  },
  {
   "cell_type": "code",
   "execution_count": null,
   "metadata": {},
   "outputs": [],
   "source": [
    "Transformer: Attention is All You Need\n",
    "\n",
    "<Since 2016>\n",
    "구글 Google’s Neural Machine Translation System(GNMT)\n",
    "이전에 있었던 전통적 기계번역 시스템의 성능을 뛰어넘는 모델\n",
    "논문 한번 읽어보면 좋다\n",
    "\n",
    "ERR(Error Reduction Rate) 보니 괄목할만한 성장\n",
    "Relative Improvement 기본 58~87%까지\n",
    "이제 지금부터 열심히 하는 사람이 1등하는 거야\n",
    "그러나 시퀀스투시퀀스 기반의 RNN은 성능의 한계가 있었음\n",
    "\n",
    "<Fully Convolutional Seq2Seq>\n",
    "2017년 배아픈 페이스북, 우린 RNN 안 써, 엄청 빨라\n",
    "근데 지금은 아무도 기억을 안 함\n",
    "정확하게 한 달 후에\n",
    "\n",
    "<Attention is All You Need>\n",
    "Attention is All You Need라는 논문이 나옴\n",
    "\n",
    "<Transformer>\n",
    "시퀀스투시퀀스와 거의 비슷한 구조를 가지고 있음\n",
    "인코더와 디코더, 제너레이터\n",
    "Attention으로 구성\n",
    "그 이외에 RNN이나 컨볼루션 레이어는 없고 풀리 커넥티드 레이어(Feed Forward)만 있다.\n",
    "트랜스포머가 NLP에서만 쓰이는 것은 아님. 모든 분야에서 뛰어난 성능 보여주고 있다.\n",
    "\n",
    "결론적으로 일타쌍피\n",
    "성능과 속도 모두 기존 모델을 압도\n",
    "\n",
    "결과적으로 지금은 트랜스포머의 세상이 왔다.\n",
    "트랜스포머의 뛰어난 scalable한 능력 때문에\n",
    "그걸 굉장히 깊고 넓게 쌓아서\n",
    "큰 언어모델을 만들어서 엄청나게 많은 데이터를 때려 박아서\n",
    "프리트레인한 이후에 파인튜닝하는 시대가 옴\n",
    "Bertology\n",
    "\n",
    "원래는 NLG에 쓰려고 개발한건데\n",
    "반드시 인코더-디코더 아키텍처가 아닌\n",
    "인코더나 디코더 각각에만 갖다 써도 굉장히 뛰어난 성능을 보여줌\n",
    "다른 분야에도 저변 확대\n",
    "\n",
    "트랜스포머의 각 서브모듈들 살펴보겠다."
   ]
  },
  {
   "cell_type": "markdown",
   "metadata": {},
   "source": [
    "## TODO: 02. Ch 08. Transformer - 02. Multi-head Attention"
   ]
  }
 ],
 "metadata": {
  "kernelspec": {
   "display_name": "Python 3",
   "language": "python",
   "name": "python3"
  },
  "language_info": {
   "codemirror_mode": {
    "name": "ipython",
    "version": 3
   },
   "file_extension": ".py",
   "mimetype": "text/x-python",
   "name": "python",
   "nbconvert_exporter": "python",
   "pygments_lexer": "ipython3",
   "version": "3.7.6"
  }
 },
 "nbformat": 4,
 "nbformat_minor": 4
}
