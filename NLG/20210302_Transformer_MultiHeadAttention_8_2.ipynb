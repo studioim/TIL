{
 "cells": [
  {
   "cell_type": "markdown",
   "metadata": {},
   "source": [
    "# 02. Ch 08. Transformer - 02. Multi-head Attention"
   ]
  },
  {
   "cell_type": "code",
   "execution_count": null,
   "metadata": {},
   "outputs": [],
   "source": [
    "<어텐션: Query Generation>\n",
    "마음의 상태(state)를 잘 반영하면서 좋은 검색 결과를 이끌어내는 쿼리를 얻기 위함\n",
    "\n",
    "<트랜스포머 & 어텐션>\n",
    "Scaled Dot-Product Attention: Scaled 빼면 그냥 어텐션\n",
    "Multi-Head Attention: Scaled Dot-Product Attention이 여러개(h개)\n",
    "\n",
    "인코더 블럭을 두 개 쌓은 것, 디코더도 마찬가지\n",
    "예전 시퀀스투시퀀스의 어텐션은 디코더에서 인코더로 쿼리를 날리는 것\n",
    "지금은 어텐션만 써야하니까\n",
    "인코더 안 어텐션, 디코더 안 어텐션, 디코더가 인코더로 어텐션을 때리는 총 세 가지 어텐션이 있다\n",
    "\n",
    "그래서 인코더의 어텐션은 자기 자신에게 어텐션 때리는 것(스스로가 옆에 있는 애들에 어텐션을 날려서 정보를 가져와서 위로 올리겠다는 것)\n",
    "이전 레이어(블럭)의 결과값이 Q,K,V로 들어가게 된다.\n",
    "\n",
    "디코더에서도 자기 자신에게서 오는 애 하나, 인코더의 최종 결과값(Q는 밑에서 K, V는 인코더의 맨 마지막 레이어에서)이 들어온다.\n",
    "\n",
    "예전에는 디코더가 각 타임스텝마다 시퀀셜하게 어텐션이 들어갔다고 한다면\n",
    "지금은 한번에 자기 자신의 모든 타임스텝을 가지고 K에 쿼리를 때려보는 것\n",
    "그렇기 떄문에 속도가 빠를 수 있다. 대신 메모리는 많이 차지할 것.\n",
    "\n",
    "<요약>\n",
    "-Previous Method: attention in sequence to sequence\n",
    "쿼리를 잘 만들어 키-밸류를 잘 매칭시키자\n",
    "-Multi-head Attention\n",
    "어텐션을 여러번 하는 것, 쿼리를 여러번 날리는 것\n",
    "여러 개의 쿼리를 만들어 다양한 정보를 잘 얻어오자\n",
    "-어텐션 자체로도 정보의 인코딩과 디코딩이 가능함을 보여줌\n",
    "반드시 디코더에서 인코더로 정보 얻어올 때만 쓰는 것이 아니라\n",
    "인코더에서 이전 레이어의 정보를 잘 취합하는 것에도 어텐션 쓸 수 있다. 디코더에서도 마찬가지\n",
    "어텐션만 가지고도 시퀀스투시퀀스보다 뛰어난 성능의 아키텍처를 만들 수 있다는 것.\n",
    "\n",
    "다음 시간부터는 멀티헤드어텐션을 가지고 각 서브 모듈들을 구성하는 방법을 살펴보겠다."
   ]
  },
  {
   "cell_type": "markdown",
   "metadata": {},
   "source": [
    "# TODO: 03. Ch 08. Transformer - 03. Encoder"
   ]
  }
 ],
 "metadata": {
  "kernelspec": {
   "display_name": "Python 3",
   "language": "python",
   "name": "python3"
  },
  "language_info": {
   "codemirror_mode": {
    "name": "ipython",
    "version": 3
   },
   "file_extension": ".py",
   "mimetype": "text/x-python",
   "name": "python",
   "nbconvert_exporter": "python",
   "pygments_lexer": "ipython3",
   "version": "3.7.6"
  }
 },
 "nbformat": 4,
 "nbformat_minor": 4
}
