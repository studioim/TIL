{
 "cells": [
  {
   "cell_type": "markdown",
   "metadata": {},
   "source": [
    "# 인공지능 개념 이해 - 기초"
   ]
  },
  {
   "cell_type": "code",
   "execution_count": null,
   "metadata": {},
   "outputs": [],
   "source": [
    "data - (model - logit - loss - optimization) - result\n",
    "\n",
    "레이어\n",
    "인풋 -히든- 아웃풋\n",
    "컨볼루션, 풀링\n",
    "깊게 쌓으면 오버피팅 되기 쉽고 무거워지는 등 단점. 요즘은 어떻게 하면 효율적으로 쌓을지 고민 많이 한다.\n",
    "\n",
    "컨볼루션(합성곱)\n",
    "input image - convolution kernel(filter) - feature map\n",
    "필터를 통과해 특징을 뽑아내는 게 컨볼루션\n",
    "\n",
    "weight/filter/kernel/variable/bias\n",
    "비슷한 역할을 한다\n",
    "\n",
    "풀링 레이어\n",
    "맥스풀링은 이미지가 가지고 있는 가장 큰 특징 값을 추출해낸다. 이를 통해 압축.\n",
    "\n",
    "activation function 활성함수\n",
    "컨볼루션 받고난 뒤 특징 중 음수 값이나 불필요한 값들을 제거\n",
    "sigmoid, leaky ReLU, tanh, Maxout, ReLU****, ELU\n",
    "\n",
    "소프트맥스함수\n",
    "다변수 다출력 함수\n",
    "앞에서 받은 값들을 확률로 나타내주는 함수\n",
    "\n",
    "cost/loss function 비용(손실) 함수\n",
    "learning rate(하이퍼 파라미터)\n",
    "\n",
    "최적화(optmization)\n",
    "로스 펑션이 얼마나 틀렸는지, 최소로 줄이는 과정\n",
    "\n",
    "batch size\n",
    "모든 데이터를 모델에 한 번에 넣어줄 수 없다.\n",
    "나눠서 조금씩 넣어준다. 이때 나누는 크기가 배치 사이즈\n",
    "\n",
    "Epoch/step\n",
    "전체 데이터를 한 번만 봐서는 안 된다. 에포크 수만큼 계속해서 봐줘야 한다. 몇만번 몇백만번까지. 몇주 돌리는 경우도 있다.\n",
    "전체 데이터를 한 번 다 봤을 때가 1에포크.\n",
    "\n",
    "train / validation / test\n",
    "data set\n",
    "\t|\n",
    "train set / test set\n",
    "\t|\n",
    "train set / eval / test set\n",
    "\n",
    "label / ground truth\n",
    "cnn, 분류 모델은 레이블(정답)이 있어야 한다\n",
    "\n",
    "Feature Extraction in multiple hidden layers = convolution + ReLU + Max Pooling\n",
    "Classification in the output layer : Fully Connected Layer\n",
    "\n",
    "input image -> filter bank -> feature maps\n",
    "scalar - vector - matrix - tensor"
   ]
  }
 ],
 "metadata": {
  "kernelspec": {
   "display_name": "Python 3",
   "language": "python",
   "name": "python3"
  },
  "language_info": {
   "codemirror_mode": {
    "name": "ipython",
    "version": 3
   },
   "file_extension": ".py",
   "mimetype": "text/x-python",
   "name": "python",
   "nbconvert_exporter": "python",
   "pygments_lexer": "ipython3",
   "version": "3.7.6"
  }
 },
 "nbformat": 4,
 "nbformat_minor": 4
}
