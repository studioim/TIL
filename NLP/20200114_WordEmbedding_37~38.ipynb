{
 "cells": [
  {
   "cell_type": "markdown",
   "metadata": {},
   "source": [
    "# 37. Ch 04. Word Embedding - 11. 수식 Word2Vec, GloVe & FastText"
   ]
  },
  {
   "cell_type": "code",
   "execution_count": null,
   "metadata": {},
   "outputs": [],
   "source": [
    "<워드투벡(스킵그램)>\n",
    "원핫벡터에 리니어 레이어의 웨이트 파라미터를 곱하면 원핫벡터에 1이들어가는 인덱스에 해당하는 웨이트 파라미터의 로우만 살아남는다.\n",
    "그게 곧 임베딩 벡터다.\n",
    "\n",
    "네거티브 샘플링\n",
    "단어가 10만개 100만개 될 수 있다. 이때 소프트맥스로 모든 경우를 연산해주는 것은 비효율적일 수 있다.\n",
    "워드투벡에서 제안한 방법이 네거티브 샘플링\n",
    "vocab에서 네거티브 예제를 샘플링해서 셋을 구성한 뒤 그걸 반대되는 방향으로 스코어를 학습시키는 것\n",
    "모든 단어에 대해 계산을 수행하는 것보다 훨씬 효율적으로 학습을 수행할 수 있다.\n",
    "네거티브 샘플링 이용해서 소프트맥스를 쓰지 않고 갈 수도 있다.\n",
    "\n",
    "<GloVe>\n",
    "-분류 태스크에서 회귀 태스크로 바뀜…\n",
    "스킵그램은 컨텍스트 윈도우가 코퍼스를 훑으면서 주변 단어를 예측하는 분류 태스크를 수행\n",
    "글로브는 맨 처음에 컨텍스트 윈도우가 코퍼스를 훑고 co-occurrences 매트릭스 만들어내고 나서 회귀 태스크 수행. 훨씬 더 빠르고 효율적.\n",
    "구조는 같다. x -> w -> z -> w’ -> y hat\n",
    "글로브의 수식은 저빈도 단어에 대해 로스 펑션에 패널티를 줌으로써 미니마이즈하는 과정에서 신경쓰지 않도록 만들어준다.\n",
    "\n",
    "<FastText>\n",
    "스킵그램의 업그레이드 버전\n",
    "x -> w -> z(임베딩 벡터) -> w’ -> y hat\n",
    "수식은 스킵그램과 같으나, x에 단어 원핫벡터 대신에 서브워드 원핫벡터의 합을 사용한다."
   ]
  },
  {
   "cell_type": "markdown",
   "metadata": {},
   "source": [
    "# 38. Ch 04. Word Embedding - 12. 차원 축소 관점에서 이해하기"
   ]
  },
  {
   "cell_type": "code",
   "execution_count": null,
   "metadata": {},
   "outputs": [],
   "source": [
    "워드임베딩 벡터 방식의 알고리즘들을 차원축소 관점에서 살펴보겠다.\n",
    "<오토인코더>\n",
    "-인코더와 디코더를 통해 압축과 해제를 실행\n",
    "원래 입력(x)을 그대로 복원해서 뱉어내는 아키텍처 \n",
    "bottleneck은 저차원. 저차원으로 압축.\n",
    "이를 그대로 복원.\n",
    "Z에 최대한 많은 정보를 우겨넣어야 한다.\n",
    "손실이 일어날 수밖에 없는데, 이때 복원하는 데 최대한 필요가 없는 정보들을 버릴 것.\n",
    "-복원을 성공적으로 하기 위해 오토인코더는 특징을 추출하는 방법을 자동으로 학습\n",
    "\n",
    "<워드투벡>\n",
    "워드투벡도 거의 같은 맥락.\n",
    "주어진 단어로 주변 단어를 예측\n",
    "y를 예측하기 위해 필요한 정보가 Z에 있어야 한다.\n",
    "주변 단어를 잘 예측하기 위해 x를 잘 압축해야"
   ]
  }
 ],
 "metadata": {
  "kernelspec": {
   "display_name": "Python 3",
   "language": "python",
   "name": "python3"
  },
  "language_info": {
   "codemirror_mode": {
    "name": "ipython",
    "version": 3
   },
   "file_extension": ".py",
   "mimetype": "text/x-python",
   "name": "python",
   "nbconvert_exporter": "python",
   "pygments_lexer": "ipython3",
   "version": "3.7.6"
  }
 },
 "nbformat": 4,
 "nbformat_minor": 4
}
