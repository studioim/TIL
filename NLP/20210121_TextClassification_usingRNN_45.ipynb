{
 "cells": [
  {
   "cell_type": "markdown",
   "metadata": {},
   "source": [
    "# 45. Ch 05. Text Classification - 02. RNN을 활용한 텍스트 분류"
   ]
  },
  {
   "cell_type": "code",
   "execution_count": null,
   "metadata": {},
   "outputs": [],
   "source": [
    "<NLP Applications using RNN>\n",
    "Many to one / Text 분류(Non-Autoregressive) bi-directional 가능\n",
    "One to Many / NLG, 기계번역 (Autoregressive) bi-directional 불가\n",
    "Many to Many / POS 태깅, MRC(Non-Autoregressive) bi-directional 가능\n",
    "\n",
    "<Text Classification using RNN>\n",
    "with Bidirectional Multi-layered RNN\n",
    "forward, backward\n",
    "\n",
    "<How the Classifier Works>\n",
    "One-hot Vectors(의 인덱스) -> Embedding Layer -> Multi-layered Bi-directional RNN\n",
    "-> Softmax Layer -> Distribution - One-hot vectors -> 로스펑션(크로스 엔트로피 로스)\n",
    "RNN의 마지막 타임스텝의 아웃풋을 리니어레이어+소프트맥스에 넣어준다\n",
    "무조건 마지막 타임 스텝일 필요는 없다. 첫번째 타임스텝 아웃풋을 써도 된다.\n",
    "\n",
    "<Embedding Layer>\n",
    "원핫벡터(배치사이즈*보카뷰러리 사이즈) X 임베딩레이어웨이트(보카 사이즈*임베딩벡터사이즈) = 임베딩 벡터\n",
    "이렇게 구한 임베딩 벡터를 RNN에 집어넣는다.\n",
    "\n",
    "<How the Classifier Works with Mini-batch>\n",
    "|x1:T| = (n, T, 1) # 원핫벡터의 인덱스\n",
    "-embedding Layer->\n",
    "|emb(x1:T)| = (n, T, d) \n",
    "-RNN->\n",
    "|rnn(emb(x1:T))| = (n, T, h * 2) # bi-directional 정방향과 역방향이 붙어서 나온다 \n",
    "-Pick last time step->\n",
    "|rnn(emb(xT))| = (n, 1, h * 2) # 아웃풋 하나만 가져옴\n",
    "-Softmax Layer->\n",
    "|y hat| = (n, 1, |C|) # (n, |C|)에 더 가깝다, 클래스별로 값이 있어야 하므로 벡터는 클래스 사이즈만큼 있어야 한다\n",
    "->크로스 엔트로피 로스(distribution - one hot vectors)\n",
    "\n",
    "<요약>\n",
    "-Non-autoregressive task이므로 입력을 한 번에 받게 된다.\n",
    "따라서 모든 타임 스텝을 한번에 병렬로 처리 가능\n",
    "\n",
    "-Feed forward 과정\n",
    "1)원핫벡터를 입력으로 받아 임베딩 레이어에 넣어준다.\n",
    "2)임베딩 벡터를 RNN에 넣어 출력을 얻는다.\n",
    "3)RNN의 출력값 중 마지막 타임 스텝의 값을 잘라낸다.\n",
    "4)잘라낸 값을 소프트맥스 레이어에 통과시켜 각 클래스별 확률값(확률 분포)을 얻는다.\n",
    "해당 확률분포를 그라운드트루스 확률분포와 가까워지게 하기 위해서\n",
    "크로스 엔트로피를 그레디언트 디센트를 수행해 최소화\n",
    "그레디언트 디센트는 미분을 해야하니 역전파 수행\n",
    "RNN이니 BPTT가 수행"
   ]
  },
  {
   "cell_type": "markdown",
   "metadata": {},
   "source": [
    "# TODO : 46. Ch 05. Text Classification - 03. 실습 - 실습 소개"
   ]
  }
 ],
 "metadata": {
  "kernelspec": {
   "display_name": "Python 3",
   "language": "python",
   "name": "python3"
  },
  "language_info": {
   "codemirror_mode": {
    "name": "ipython",
    "version": 3
   },
   "file_extension": ".py",
   "mimetype": "text/x-python",
   "name": "python",
   "nbconvert_exporter": "python",
   "pygments_lexer": "ipython3",
   "version": "3.7.6"
  }
 },
 "nbformat": 4,
 "nbformat_minor": 4
}
