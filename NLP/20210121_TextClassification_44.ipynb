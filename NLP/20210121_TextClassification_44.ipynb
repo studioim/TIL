{
 "cells": [
  {
   "cell_type": "markdown",
   "metadata": {},
   "source": [
    "# 44. Ch 05. Text Classification - 01. 들어가며"
   ]
  },
  {
   "cell_type": "code",
   "execution_count": null,
   "metadata": {},
   "outputs": [],
   "source": [
    "<what we need>\n",
    "-텍스트를 입력으로 받아 원하는 항목(클래스)에 대한 수치를 출력하는 것\n",
    "예. 감성분석(sentiment analysis), 주제분류(topic classification)\n",
    "가격도 싸고 상품 품질은 괜찮은데 배송이 이렇게 늦어서 화가 나네요 -> NN -> 항목/수치: 품질/긍정,배송/부정,가격/긍정,종합/부정\n",
    "실무에서 훨씬 요구가 높은 태스크\n",
    "\n",
    "<What we need to do (in specific)>\n",
    "-문장을 latent(잠재한) space에 projection해 decision boundary를 찾는 것\n",
    "\n",
    "<확률 관점에서>\n",
    "-문장이 주어졌을 때, 문장이 속할 클래스의 확률분포함수를 approximate\n",
    "\n",
    "<We will talk about>\n",
    "-RNN을 활용한 Classifier\n",
    "-CNN을 활용한 Classifier\n",
    "-RNN과 CNN을 활용한 Text Classification Project\n",
    "\t-RNN, CNN Classifier Model 실습\n",
    "\t-TorchText를 활용한 data loader 실습\n",
    "\t-Model을 학습시키기 위한 Trainer(Ignite) 실습\n",
    "\t-학습(train.py)과 추론(classify.py) 코드 실습"
   ]
  }
 ],
 "metadata": {
  "kernelspec": {
   "display_name": "Python 3",
   "language": "python",
   "name": "python3"
  },
  "language_info": {
   "codemirror_mode": {
    "name": "ipython",
    "version": 3
   },
   "file_extension": ".py",
   "mimetype": "text/x-python",
   "name": "python",
   "nbconvert_exporter": "python",
   "pygments_lexer": "ipython3",
   "version": "3.7.6"
  }
 },
 "nbformat": 4,
 "nbformat_minor": 4
}
