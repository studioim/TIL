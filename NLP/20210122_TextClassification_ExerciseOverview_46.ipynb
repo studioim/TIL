{
 "cells": [
  {
   "cell_type": "markdown",
   "metadata": {},
   "source": [
    "# 46. Ch 05. Text Classification - 03. 실습 - 실습 소개"
   ]
  },
  {
   "cell_type": "code",
   "execution_count": null,
   "metadata": {},
   "outputs": [],
   "source": [
    "<Deep Learning Training / Inference Design>\n",
    "Data -> train.py(Data Loader -> Trainer(Model)) -save->classify.py(Model)\n",
    "test sample(학습 때 전처리가 있었다면 같은 전처리가 수행돼야 함) -> classify.py -> test result\n",
    "Data Loader: TorchText\n",
    "Trainer: Ignite\n",
    "\n",
    "classify.py 내에 있는 프레딕트나 클레서파이 함수를 RESTful API로 감싸면 프로덕트가 되는 것.\n",
    "\n",
    "<문제 정의>\n",
    "-인풋 : 문장\n",
    "인풋 텐서 shape : (n, length, |V|)\n",
    "-아웃풋 : 클래스\n",
    "아웃풋 텐서 shape : (n, |C|)\n",
    "-추후 CNN Classifier를 구현했을 떄도 같은 인터페이스를 지닐 것\n",
    "\n",
    "<아키텍처>\n",
    "임베딩레이어 -> LSTM -> Linear Layer -> Softmax\n",
    "인풋 텐서(문장) -> 임베딩 레이어 -> 임베딩 벡터 -> Multi-layered Bi-directioanl LSTM\n",
    "-> Slicing(마지막 타임스텝의 히든 스테이트) -> Linear Layer(히든스테이트의 사이즈를 클래스 개수만큼으로 차원축소)\n",
    "-> Softmax -> Output Tensor -> 손실함수(크로스 엔트로피) -> 역전파 -> 그레디언트 디센트 -> 출력\n",
    "\n",
    "<Other Moduels>\n",
    "-Data Loader\n",
    "\t-Define Input File Format\n",
    "\tTSV(Tab Separated Values) format\n",
    "\t1st Column : Class Label\n",
    "\t2nd Column : Text\n",
    "\t-Implement with TorchText\n",
    "-Trainer\n",
    "Implement with Pytorch Ignite"
   ]
  },
  {
   "cell_type": "markdown",
   "metadata": {},
   "source": [
    "# 47. Ch 05. Text Classification - 04. 실습 RNN 분류기 구현하기\n",
    "- 주피터 노트북 참고"
   ]
  },
  {
   "cell_type": "markdown",
   "metadata": {},
   "source": [
    "# TODO : 48. Ch 05. Text Classification - 05. CNN을 활용한 텍스트 분류"
   ]
  }
 ],
 "metadata": {
  "kernelspec": {
   "display_name": "Python 3",
   "language": "python",
   "name": "python3"
  },
  "language_info": {
   "codemirror_mode": {
    "name": "ipython",
    "version": 3
   },
   "file_extension": ".py",
   "mimetype": "text/x-python",
   "name": "python",
   "nbconvert_exporter": "python",
   "pygments_lexer": "ipython3",
   "version": "3.7.6"
  }
 },
 "nbformat": 4,
 "nbformat_minor": 4
}
