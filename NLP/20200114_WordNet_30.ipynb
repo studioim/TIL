{
 "cells": [
  {
   "cell_type": "code",
   "execution_count": null,
   "metadata": {},
   "outputs": [],
   "source": [
    "!pip install nltk==3.2.5"
   ]
  },
  {
   "cell_type": "code",
   "execution_count": 2,
   "metadata": {
    "ExecuteTime": {
     "end_time": "2021-01-14T02:02:56.419345Z",
     "start_time": "2021-01-14T02:02:54.485469Z"
    }
   },
   "outputs": [
    {
     "name": "stdout",
     "output_type": "stream",
     "text": [
      "[nltk_data] Downloading package wordnet to /Users/Im/nltk_data...\n",
      "[nltk_data]   Package wordnet is already up-to-date!\n"
     ]
    }
   ],
   "source": [
    "import nltk\n",
    "nltk.download('wordnet')\n",
    "\n",
    "from nltk.corpus import wordnet as wn"
   ]
  },
  {
   "cell_type": "code",
   "execution_count": 3,
   "metadata": {
    "ExecuteTime": {
     "end_time": "2021-01-14T02:03:15.285409Z",
     "start_time": "2021-01-14T02:03:11.742833Z"
    }
   },
   "outputs": [
    {
     "data": {
      "text/plain": [
       "[Synset('people.n.01'),\n",
       " Synset('citizenry.n.01'),\n",
       " Synset('people.n.03'),\n",
       " Synset('multitude.n.03'),\n",
       " Synset('people.v.01'),\n",
       " Synset('people.v.02')]"
      ]
     },
     "execution_count": 3,
     "metadata": {},
     "output_type": "execute_result"
    }
   ],
   "source": [
    "# 동의어\n",
    "wn.synsets('people')"
   ]
  },
  {
   "cell_type": "code",
   "execution_count": 4,
   "metadata": {
    "ExecuteTime": {
     "end_time": "2021-01-14T02:04:03.263367Z",
     "start_time": "2021-01-14T02:04:03.244701Z"
    }
   },
   "outputs": [
    {
     "data": {
      "text/plain": [
       "[Synset('group.n.01')]"
      ]
     },
     "execution_count": 4,
     "metadata": {},
     "output_type": "execute_result"
    }
   ],
   "source": [
    "wn.synsets('people')[0].hypernyms()"
   ]
  },
  {
   "cell_type": "code",
   "execution_count": 8,
   "metadata": {
    "ExecuteTime": {
     "end_time": "2021-01-14T02:08:05.871217Z",
     "start_time": "2021-01-14T02:08:05.857229Z"
    }
   },
   "outputs": [
    {
     "name": "stdout",
     "output_type": "stream",
     "text": [
      "Synset('policeman.n.01')\n",
      "Synset('lawman.n.01')\n",
      "Synset('defender.n.01')\n",
      "Synset('preserver.n.03')\n",
      "Synset('person.n.01')\n",
      "Synset('causal_agent.n.01')\n",
      "Synset('physical_entity.n.01')\n",
      "Synset('entity.n.01')\n"
     ]
    }
   ],
   "source": [
    "def hypernyms(word):\n",
    "    current_node = wn.synsets(word)[0]\n",
    "    yield current_node\n",
    "    \n",
    "    while True:\n",
    "        try:\n",
    "            current_node = current_node.hypernyms()[0]\n",
    "            yield current_node\n",
    "        except IndexError:\n",
    "            break\n",
    "for h in hypernyms('policeman'):\n",
    "    print(h)"
   ]
  },
  {
   "cell_type": "code",
   "execution_count": 9,
   "metadata": {
    "ExecuteTime": {
     "end_time": "2021-01-14T02:08:34.577436Z",
     "start_time": "2021-01-14T02:08:34.569294Z"
    }
   },
   "outputs": [
    {
     "data": {
      "text/plain": [
       "[Synset('fireman.n.04'),\n",
       " Synset('defender.n.01'),\n",
       " Synset('preserver.n.03'),\n",
       " Synset('person.n.01'),\n",
       " Synset('causal_agent.n.01'),\n",
       " Synset('physical_entity.n.01'),\n",
       " Synset('entity.n.01')]"
      ]
     },
     "execution_count": 9,
     "metadata": {},
     "output_type": "execute_result"
    }
   ],
   "source": [
    "[h for h in hypernyms('firefighter')]"
   ]
  },
  {
   "cell_type": "code",
   "execution_count": 10,
   "metadata": {
    "ExecuteTime": {
     "end_time": "2021-01-14T02:08:53.125286Z",
     "start_time": "2021-01-14T02:08:53.108352Z"
    }
   },
   "outputs": [
    {
     "data": {
      "text/plain": [
       "[Synset('sheriff.n.01'),\n",
       " Synset('lawman.n.01'),\n",
       " Synset('defender.n.01'),\n",
       " Synset('preserver.n.03'),\n",
       " Synset('person.n.01'),\n",
       " Synset('causal_agent.n.01'),\n",
       " Synset('physical_entity.n.01'),\n",
       " Synset('entity.n.01')]"
      ]
     },
     "execution_count": 10,
     "metadata": {},
     "output_type": "execute_result"
    }
   ],
   "source": [
    "[h for h in hypernyms('sheriff')]"
   ]
  },
  {
   "cell_type": "code",
   "execution_count": 11,
   "metadata": {
    "ExecuteTime": {
     "end_time": "2021-01-14T02:09:04.065595Z",
     "start_time": "2021-01-14T02:09:04.041561Z"
    }
   },
   "outputs": [
    {
     "data": {
      "text/plain": [
       "[Synset('mailman.n.01'),\n",
       " Synset('deliveryman.n.01'),\n",
       " Synset('employee.n.01'),\n",
       " Synset('worker.n.01'),\n",
       " Synset('person.n.01'),\n",
       " Synset('causal_agent.n.01'),\n",
       " Synset('physical_entity.n.01'),\n",
       " Synset('entity.n.01')]"
      ]
     },
     "execution_count": 11,
     "metadata": {},
     "output_type": "execute_result"
    }
   ],
   "source": [
    "[h for h in hypernyms('mailman')]"
   ]
  },
  {
   "cell_type": "code",
   "execution_count": 12,
   "metadata": {
    "ExecuteTime": {
     "end_time": "2021-01-14T02:11:23.067150Z",
     "start_time": "2021-01-14T02:11:23.053242Z"
    }
   },
   "outputs": [
    {
     "data": {
      "text/plain": [
       "6"
      ]
     },
     "execution_count": 12,
     "metadata": {},
     "output_type": "execute_result"
    }
   ],
   "source": [
    "# 단어간 거리 구하기\n",
    "def distance(word1, word2):\n",
    "    word1_hypernyms = [h for h in hypernyms(word1)]\n",
    "    \n",
    "    for i, word2_hypernym in enumerate(hypernyms(word2)):\n",
    "        try:\n",
    "            return i + word1_hypernyms.index(word2_hypernym)\n",
    "        except ValueError:\n",
    "            continue\n",
    "\n",
    "distance('sheriff', 'student')"
   ]
  },
  {
   "cell_type": "code",
   "execution_count": 13,
   "metadata": {
    "ExecuteTime": {
     "end_time": "2021-01-14T02:12:52.016176Z",
     "start_time": "2021-01-14T02:12:51.988418Z"
    }
   },
   "outputs": [
    {
     "name": "stdout",
     "output_type": "stream",
     "text": [
      "-1.791759469228055\n",
      "-0.6931471805599453\n"
     ]
    }
   ],
   "source": [
    "# 유사도 구하기\n",
    "import numpy as np\n",
    "\n",
    "def similarity(word1, word2):\n",
    "    return -np.log(distance(word1, word2))\n",
    "\n",
    "print(similarity('sheriff', 'student'))\n",
    "print(similarity('sheriff', 'policeman'))\n",
    "# sheriff는 student보다 policeman에 더 가깝다\n",
    "# 코퍼스 없이 정량적으로 단어간 거리, 유사도를 구할 수 있었다.\n",
    "# 한국어 워드넷도 영어에 비해 미흡하지만 존재하긴 한다."
   ]
  }
 ],
 "metadata": {
  "kernelspec": {
   "display_name": "Python 3",
   "language": "python",
   "name": "python3"
  },
  "language_info": {
   "codemirror_mode": {
    "name": "ipython",
    "version": 3
   },
   "file_extension": ".py",
   "mimetype": "text/x-python",
   "name": "python",
   "nbconvert_exporter": "python",
   "pygments_lexer": "ipython3",
   "version": "3.7.6"
  }
 },
 "nbformat": 4,
 "nbformat_minor": 4
}
