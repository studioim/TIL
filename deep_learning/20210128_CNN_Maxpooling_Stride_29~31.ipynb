{
 "cells": [
  {
   "cell_type": "markdown",
   "metadata": {},
   "source": [
    "# 29. Ch 06. Convolutional Neural Networks - 02. CNN 활용 사례"
   ]
  },
  {
   "cell_type": "code",
   "execution_count": null,
   "metadata": {},
   "outputs": [],
   "source": [
    "<애플리케이션>\n",
    "-컴퓨터 비전(영상 처리 분야)\n",
    "-음성 인식(speech Recognition)\n",
    "-NLP(Text Classification, Machine Translation)\n",
    "-타임시리즈(시계열)\n",
    "주식\n",
    "\n",
    "알고 보면 음성인식이나 NLP에서도 얼마든지 활용될 수 있다. 그 특성만 정확하게 이해하고 있다면."
   ]
  },
  {
   "cell_type": "markdown",
   "metadata": {},
   "source": [
    "# 30. Ch 06. Convolutional Neural Networks - 03. Max-pooling & Stride"
   ]
  },
  {
   "cell_type": "code",
   "execution_count": null,
   "metadata": {},
   "outputs": [],
   "source": [
    "<Dimension Reduction>\n",
    "-고차원 공간의 sparse한 데이터를 저차원 공간에 mapping\n",
    "그 과정에서 복잡하게 얽혀 있는(entangle) 데이터를 풀어냄\n",
    "-하지만 ‘3X3 + 1 padding’ con layer는 입출력 텐서의 크기가 같음\n",
    "우리가 원하는 차원축소(딥러닝의 특징)를 할 수 없다.\n",
    "\n",
    "<Max-pooling>\n",
    "-다운 샘플링 기법\n",
    "커널 범위 내에서 가장 큰 값을 풀링하는 것\n",
    "4X4 -> 2X2\n",
    "맥스풀링은 컨볼루션 레이어 외에 추가적인 레이어를 가지는 게 특징\n",
    "맥스풀링은 레이어라고 해서 웨이트 파라미터가 있지는 않다. 그냥 연산일 뿐.\n",
    "컨볼루션 레이어가 있고 맥스풀링 레이어가 따로 있어야 한다.\n",
    "\n",
    "<Stride성큼성큼 걷다>\n",
    "-Working in convolution layer.\n",
    "오른쪽이든, 아래쪽이든 두 칸(조절 가능) 이동해야 한다. 공간 없으면 이동 못 함.\n",
    "4X4(패딩 시 6X6) 인풋이 3X3 커널 통과하면 2X2 아웃풋이 됨.\n",
    "맥스풀링과 나오는 값은 다르지만\n",
    "동작은 동일하게 함. 출력의 형태가 같음.\n",
    "\n",
    "요새는 스트라이드 더 선호\n",
    "결과적으로 큰 차이는 없다.\n",
    "어떤 것을 쓰든간에 딥뉴럴네트워크가 최적의 컨볼루션 필터를 찾아냄.\n",
    "\n",
    "<차원축소 in CNN>\n",
    "-맥스풀링\n",
    "별도의 맥스 풀링 레이어를 활용\n",
    "초기에 많이 활용\n",
    "\n",
    "-스트라이드\n",
    "같은 컨볼루션 레이어 내에서 간단히 동작\n",
    "근래에 좀 더 애용되는 추세"
   ]
  },
  {
   "cell_type": "markdown",
   "metadata": {},
   "source": [
    "# 31. Ch 06. Convolutional Neural Networks - 04. 실제 구현할 때 팁"
   ]
  },
  {
   "cell_type": "code",
   "execution_count": null,
   "metadata": {},
   "outputs": [],
   "source": [
    "<CNN의 특징>\n",
    "FC 레이어에 비해 입출력 크기가 계산이 까다로워 네트워크 구성이 쉽지 않다.\n",
    "\n",
    "<TIP: How to Design CNN Architecture> \n",
    "-CNN Block이 여러번 걸쳐서 있다.\n",
    "1)3X3 Conv layer(+ Pad)\n",
    "2)ReLU\n",
    "3)Batch Normalization\n",
    "#첫번째 비선형 모듈 완성\n",
    "4)3X3 Conv layer(+ Pad) (+ with Stride size(2X2)) # 출력의 크기가 대략 입력의 반으로 줄게 됨, 차원 축소\n",
    "5)ReLU\n",
    "6)Batch Norm\n",
    "7)(+ 맥스 풀링 if no stride)\n",
    "\n",
    "(N=1, C, H, W) -> CNN Block -> (64, H/2, W/2) -> CNN Block -> (128, H/4, W/4)\n",
    "-> CNN Block -> 256(1, 1) -> FCL -> (1, h) -> ReLU -> Batch Norm -> FCL -> Softmax -> (1, |C|)"
   ]
  },
  {
   "cell_type": "markdown",
   "metadata": {},
   "source": [
    "# TODO: 32. Ch 06. Convolutional Neural Networks - 05. 실습 브리핑"
   ]
  }
 ],
 "metadata": {
  "kernelspec": {
   "display_name": "Python 3",
   "language": "python",
   "name": "python3"
  },
  "language_info": {
   "codemirror_mode": {
    "name": "ipython",
    "version": 3
   },
   "file_extension": ".py",
   "mimetype": "text/x-python",
   "name": "python",
   "nbconvert_exporter": "python",
   "pygments_lexer": "ipython3",
   "version": "3.7.6"
  }
 },
 "nbformat": 4,
 "nbformat_minor": 4
}
