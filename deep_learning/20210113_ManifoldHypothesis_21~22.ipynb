{
 "cells": [
  {
   "cell_type": "markdown",
   "metadata": {},
   "source": [
    "# 21. Ch 04. Geometric Perspective - 03. 매니폴드(Manifold) 가설"
   ]
  },
  {
   "cell_type": "code",
   "execution_count": null,
   "metadata": {},
   "outputs": [],
   "source": [
    "딥러닝 차원축소의 근간이 되는 매니폴드\n",
    "완벽하게 수학적으로 증명된 것은 아냐\n",
    "대부분의 연구들이 가설에 기반해서 연구되고 설계되고 있다\n",
    "어느 정도 믿고 가설에 의지해도 될 듯\n",
    "증명이 되지 않았다고 해서 거짓인 것은 아냐\n",
    "\n",
    "<데이터의 분포?>\n",
    "-MNIST는 784(28*28) 차원의 벡터로 나타내어진다.\n",
    "784차원에 공간에 존재하는 데이터\n",
    "상당히 고차원\n",
    "\n",
    "-샘플들이 uniform하게 분포돼 있을까?\n",
    "테두리 부분에는 데이터 없을 확률이 높다\n",
    "유니폼하게 분포돼 있기보다 특성을 가지고 분포돼 있을 가능성이 높다\n",
    "쓸데 없는 차원 날리면 더 낮은 차원도 가능하다\n",
    "\n",
    "<Manifold Hypothesis>\n",
    "-고차원 공간의 샘플들이 저차원 다양체(manifold)의 형태로 분포해 있다는 가정\n",
    "따라서 다양체를 해당 차원의 공간에 맵핑(디멘전 리덕션)할 수 있음.\n",
    "\n",
    "한 가지 특징은, 고차원 공간에서 두 점 간의 거리 사이는 데이터가 분포하지 않을 수 있지만\n",
    "저차원공간에서 두 점 간에는 데이터가 분포하고 그 중간 지점은 특정 값을 갖는다.(데이터가 있는 지점)\n",
    "해당 지점은 의미적으로 두 점 간의 중앙지점이기도 함.\n",
    "\n",
    "<Mapping to Lower Dimensional Space>\n",
    "-우리는 3차원의 좌표계에 살지만, 2차원 좌표계로 세상을 인식한다.\n",
    "예) 지구, 메르카토르 도법\n",
    "\n",
    "<엠니스트 Example>\n",
    "784차원의 샘플들을 손실을 거쳐 2D 공간에 맵핑했을 경우\n",
    "2 -> 3으로 가면서 스무스하게 변화\n",
    "1 -> 7로 가는 것도 스무스하게 변화\n",
    "\n",
    "6과3의 중간 지점을 구할 때\n",
    "고차원 공간이라면 6과 3이 겹쳐 보이겠지만(데이터가 아님, 아무 의미없는 데이터, 노이즈일 뿐. 실제 데이터가 존재하지 않는 공간에 위치하기 때문)\n",
    "저차원 공간일 때는 0에 가까운 모습이 나온다(매니폴드 상에서의 경로에 있는 데이터).\n",
    "\n",
    "<Non-linear Dimension Reduction Example>\n",
    "우리는 매니폴드 가설 위에서 동작하는 딥러닝을 가지고 성공적으로 비선형 차원 축소를 할 수 있다.\n",
    "현재 머신러닝에서 가장 뛰어난 성과를 나타내고 있는 이유.\n",
    "\n",
    "-Binary Classification in 2-D\n",
    "비선형 결정 경계를 가지고 있는 데이터도 이진 분류할 수 있게 된다.\n",
    "1차원으로 차원축소하면 됨"
   ]
  },
  {
   "cell_type": "markdown",
   "metadata": {},
   "source": [
    "# 22. Ch 04. Geometric Perspective - 04. 실습 매니폴드 가설 실습"
   ]
  },
  {
   "cell_type": "code",
   "execution_count": null,
   "metadata": {},
   "outputs": [],
   "source": [
    "오토인코더 실습 코드와 대부분 똑같다."
   ]
  },
  {
   "cell_type": "markdown",
   "metadata": {},
   "source": [
    "# TO DO: 08. Ch 02. Representation Learning - 05. 실습 오토인코더"
   ]
  }
 ],
 "metadata": {
  "kernelspec": {
   "display_name": "Python 3",
   "language": "python",
   "name": "python3"
  },
  "language_info": {
   "codemirror_mode": {
    "name": "ipython",
    "version": 3
   },
   "file_extension": ".py",
   "mimetype": "text/x-python",
   "name": "python",
   "nbconvert_exporter": "python",
   "pygments_lexer": "ipython3",
   "version": "3.7.6"
  }
 },
 "nbformat": 4,
 "nbformat_minor": 4
}
